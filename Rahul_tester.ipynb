{
  "nbformat": 4,
  "nbformat_minor": 0,
  "metadata": {
    "colab": {
      "provenance": [],
      "include_colab_link": true
    },
    "kernelspec": {
      "name": "python3",
      "display_name": "Python 3"
    },
    "language_info": {
      "name": "python"
    }
  },
  "cells": [
    {
      "cell_type": "markdown",
      "metadata": {
        "id": "view-in-github",
        "colab_type": "text"
      },
      "source": [
        "<a href=\"https://colab.research.google.com/github/chandurnischal/sign-language/blob/rahul/Rahul_tester.ipynb\" target=\"_parent\"><img src=\"https://colab.research.google.com/assets/colab-badge.svg\" alt=\"Open In Colab\"/></a>"
      ]
    },
    {
      "cell_type": "code",
      "execution_count": null,
      "metadata": {
        "id": "8v14nlWMuVZ8",
        "colab": {
          "base_uri": "https://localhost:8080/"
        },
        "outputId": "744571b1-e42f-417a-9324-e2313e8dee17"
      },
      "outputs": [
        {
          "output_type": "stream",
          "name": "stdout",
          "text": [
            "Mounted at /content/drive\n"
          ]
        }
      ],
      "source": [
        "from google.colab import drive\n",
        "drive.mount('/content/drive')"
      ]
    },
    {
      "cell_type": "code",
      "source": [
        "import numpy as np\n",
        "import matplotlib.pyplot as plt\n",
        "from tensorflow.keras.models import load_model\n",
        "from tensorflow.keras.preprocessing import image"
      ],
      "metadata": {
        "id": "TahYSTuxxKfh"
      },
      "execution_count": null,
      "outputs": []
    },
    {
      "cell_type": "code",
      "source": [
        "def preprocess_image(image_path):\n",
        "    # img = image.load_img(image_path)\n",
        "    img = image.load_img(image_path, target_size=(100, 100))\n",
        "    img_array = image.img_to_array(img)\n",
        "    img_array = np.expand_dims(img_array, axis=0)\n",
        "    img_array /= 255.0\n",
        "    return img_array\n",
        "\n",
        "def predict_class(image_path):\n",
        "    img_array = preprocess_image(image_path)\n",
        "    prediction = model.predict(img_array)\n",
        "    predicted_class = np.argmax(prediction)\n",
        "    probability = prediction[0][predicted_class]\n",
        "    return list(class_labels.keys())[list(class_labels.values()).index(predicted_class)], probability, prediction[0]\n"
      ],
      "metadata": {
        "id": "naeRBx5AxRwU"
      },
      "execution_count": null,
      "outputs": []
    },
    {
      "cell_type": "code",
      "source": [
        "model = load_model('/content/drive/MyDrive/sign-language/model/85/VGG16/ASL/asl_bestVGG16.keras')\n",
        "\n",
        "classes = [str(i) for i in range(10)] + [chr(ord('a') + i) for i in range(26)]\n",
        "\n",
        "class_labels = {value:index for index, value in enumerate(classes)}\n",
        "class_labels"
      ],
      "metadata": {
        "id": "wzwnE-q3xMuW"
      },
      "execution_count": null,
      "outputs": []
    },
    {
      "cell_type": "code",
      "source": [
        "\n",
        "# Input image path\n",
        "input_image_path = '/content/drive/MyDrive/sign-language/split/asl/train/u/hand1_u_dif_seg_1_cropped.jpeg'\n",
        "\n",
        "# Predict the class and probabilities\n",
        "predicted_class, probability, class_probabilities = predict_class(input_image_path)\n",
        "\n",
        "# Output the predicted class and probabilities\n",
        "print(\"Predicted Class:\", predicted_class)\n",
        "print(\"Probability:\", probability)\n",
        "print(\"Class Probabilities:\", class_probabilities)\n"
      ],
      "metadata": {
        "id": "Rd6wuPDNuify"
      },
      "execution_count": null,
      "outputs": []
    },
    {
      "cell_type": "code",
      "source": [],
      "metadata": {
        "id": "ywll9MyEv98Q"
      },
      "execution_count": null,
      "outputs": []
    }
  ]
}