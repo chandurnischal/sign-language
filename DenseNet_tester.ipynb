{
  "nbformat": 4,
  "nbformat_minor": 0,
  "metadata": {
    "colab": {
      "provenance": [],
      "authorship_tag": "ABX9TyMyezIs68VCIGOjAu0yznYQ",
      "include_colab_link": true
    },
    "kernelspec": {
      "name": "python3",
      "display_name": "Python 3"
    },
    "language_info": {
      "name": "python"
    }
  },
  "cells": [
    {
      "cell_type": "markdown",
      "metadata": {
        "id": "view-in-github",
        "colab_type": "text"
      },
      "source": [
        "<a href=\"https://colab.research.google.com/github/chandurnischal/sign-language/blob/rahul/DenseNet_tester.ipynb\" target=\"_parent\"><img src=\"https://colab.research.google.com/assets/colab-badge.svg\" alt=\"Open In Colab\"/></a>"
      ]
    },
    {
      "cell_type": "code",
      "source": [
        "from google.colab import drive\n",
        "drive.mount('/content/drive')"
      ],
      "metadata": {
        "colab": {
          "base_uri": "https://localhost:8080/"
        },
        "id": "5B8qEEEC8ONv",
        "outputId": "d00575c1-d90e-46aa-829e-07086ea8d5f1"
      },
      "execution_count": null,
      "outputs": [
        {
          "output_type": "stream",
          "name": "stdout",
          "text": [
            "Drive already mounted at /content/drive; to attempt to forcibly remount, call drive.mount(\"/content/drive\", force_remount=True).\n"
          ]
        }
      ]
    },
    {
      "cell_type": "code",
      "execution_count": null,
      "metadata": {
        "id": "yQgkAHQf7_B7"
      },
      "outputs": [],
      "source": [
        "import numpy as np\n",
        "import tensorflow as tf\n",
        "from tensorflow.keras.preprocessing import image\n",
        "import cv2"
      ]
    },
    {
      "cell_type": "code",
      "source": [
        "# Load the saved model\n",
        "MODEL_PATH = '/content/drive/MyDrive/sign-language/model/85/DenseNet/ASL/asl_bestDenseNet.keras'\n",
        "model = tf.keras.models.load_model(MODEL_PATH)\n",
        "\n",
        "# Function to preprocess a single image\n",
        "def preprocess_image(image_path, target_size=(100, 100)):\n",
        "    img = image.load_img(image_path, target_size=target_size)\n",
        "    img_array = image.img_to_array(img)\n",
        "    img_array = np.expand_dims(img_array, axis=0)\n",
        "    img_array /= 255.0  # Rescale to [0, 1]\n",
        "    return img_array\n",
        "\n"
      ],
      "metadata": {
        "id": "QkdhoDCN8EDr"
      },
      "execution_count": null,
      "outputs": []
    },
    {
      "cell_type": "code",
      "source": [
        "import cv2\n",
        "# Path to the new image\n",
        "new_image_path = '/content/drive/MyDrive/hand7.jpg'\n",
        "\n",
        "# Preprocess the new image\n",
        "new_image = preprocess_image(new_image_path)\n",
        "\n",
        "# Make predictions on the new image\n",
        "prediction = model.predict(new_image)\n",
        "predicted_class_index = np.argmax(prediction)\n",
        "# Define class labels\n",
        "class_labels = ['0', '1', '2', '3', '4', '5', '6', '7', '8', '9',\n",
        "                'A', 'B', 'C', 'D', 'E', 'F', 'G', 'H', 'I', 'J',\n",
        "                'K', 'L', 'M', 'N', 'O', 'P', 'Q', 'R', 'S', 'T',\n",
        "                'U', 'V', 'W', 'X', 'Y', 'Z']\n",
        "\n",
        "# Print the predicted class label\n",
        "predicted_class_label = class_labels[predicted_class_index]\n",
        "print(\"Predicted class label:\", predicted_class_label)\n"
      ],
      "metadata": {
        "id": "Ez39s_D-7LKW"
      },
      "execution_count": null,
      "outputs": []
    }
  ]
}