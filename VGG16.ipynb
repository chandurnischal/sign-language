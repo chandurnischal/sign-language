{
  "nbformat": 4,
  "nbformat_minor": 0,
  "metadata": {
    "colab": {
      "provenance": [],
      "gpuType": "T4",
      "include_colab_link": true
    },
    "kernelspec": {
      "name": "python3",
      "display_name": "Python 3"
    },
    "language_info": {
      "name": "python"
    },
    "accelerator": "GPU"
  },
  "cells": [
    {
      "cell_type": "markdown",
      "metadata": {
        "id": "view-in-github",
        "colab_type": "text"
      },
      "source": [
        "<a href=\"https://colab.research.google.com/github/chandurnischal/sign-language/blob/rahul/VGG16.ipynb\" target=\"_parent\"><img src=\"https://colab.research.google.com/assets/colab-badge.svg\" alt=\"Open In Colab\"/></a>"
      ]
    },
    {
      "cell_type": "code",
      "execution_count": null,
      "metadata": {
        "colab": {
          "base_uri": "https://localhost:8080/"
        },
        "id": "TPVLB8h7SYLP",
        "outputId": "b7d2352c-16ae-4ad5-a87f-60d18e694efa"
      },
      "outputs": [
        {
          "output_type": "stream",
          "name": "stdout",
          "text": [
            "Drive already mounted at /content/drive; to attempt to forcibly remount, call drive.mount(\"/content/drive\", force_remount=True).\n"
          ]
        }
      ],
      "source": [
        "from google.colab import drive\n",
        "drive.mount('/content/drive')"
      ]
    },
    {
      "cell_type": "code",
      "source": [
        "import tensorflow as tf\n",
        "from tensorflow.keras.preprocessing.image import ImageDataGenerator\n",
        "from tensorflow.keras.applications import VGG16\n",
        "from tensorflow.keras.models import Sequential\n",
        "from tensorflow.keras.layers import Flatten, Dense\n",
        "from sklearn.metrics import confusion_matrix\n",
        "import matplotlib.pyplot as plt\n",
        "import os\n",
        "import numpy as np\n",
        "import pickle"
      ],
      "metadata": {
        "id": "iEyn0QNpScwz"
      },
      "execution_count": null,
      "outputs": []
    },
    {
      "cell_type": "code",
      "source": [
        "language = 'isl'\n",
        "PARENT_FOLDER = '/content/drive/MyDrive/sign-language/{}/'.format(language)\n",
        "DESTINATION_FOLDER = '/content/drive/MyDrive/sign-language/split/{}'.format(language)\n",
        "\n",
        "\n",
        "OUTPUT_PATH = '/content/drive/MyDrive/sign-language/model/'\n",
        "MODEL_PATH = os.path.join(OUTPUT_PATH, '{}_bestVGG16.keras'.format(language))\n",
        "HISTORY_PATH = os.path.join(OUTPUT_PATH, '{}_bestVGG16.pkl'.format(language))\n",
        "\n",
        "\n",
        "BATCH_SIZE = 32\n",
        "EPOCHS = 10\n",
        "TRAIN_DIR = os.path.join(DESTINATION_FOLDER, 'train')\n",
        "TEST_DIR = os.path.join(DESTINATION_FOLDER, 'test')"
      ],
      "metadata": {
        "id": "WToTyjFWSeda"
      },
      "execution_count": null,
      "outputs": []
    },
    {
      "cell_type": "code",
      "source": [
        "train_datagen = ImageDataGenerator(rescale=1./255, shear_range=0.2, zoom_range=0.2, horizontal_flip=True)\n",
        "test_datagen = ImageDataGenerator(rescale=1./255)\n",
        "\n",
        "# Define image parameters\n",
        "img_width, img_height = 100, 100\n",
        "input_shape = (img_width, img_height, 3)\n"
      ],
      "metadata": {
        "id": "-m43tvYBSgbK"
      },
      "execution_count": null,
      "outputs": []
    },
    {
      "cell_type": "code",
      "source": [
        "# Prepare training and testing data generators\n",
        "train_generator = train_datagen.flow_from_directory(\n",
        "    TRAIN_DIR,\n",
        "    target_size=(img_width, img_height),\n",
        "    batch_size=BATCH_SIZE,\n",
        "    class_mode='categorical')\n",
        "\n",
        "test_generator = test_datagen.flow_from_directory(\n",
        "    TEST_DIR,\n",
        "    target_size=(img_width, img_height),\n",
        "    batch_size=BATCH_SIZE,\n",
        "    class_mode='categorical')"
      ],
      "metadata": {
        "id": "4XvUSqHfSnpN",
        "colab": {
          "base_uri": "https://localhost:8080/"
        },
        "outputId": "ff771a3c-a371-403a-947b-dcb78899f929"
      },
      "execution_count": null,
      "outputs": [
        {
          "output_type": "stream",
          "name": "stdout",
          "text": [
            "Found 2124 images belonging to 36 classes.\n",
            "Found 396 images belonging to 36 classes.\n"
          ]
        }
      ]
    },
    {
      "cell_type": "code",
      "source": [
        "vgg16_model = VGG16(weights='imagenet', include_top=False, input_shape=(100, 100, 3))\n",
        "\n",
        "# Freeze the layers\n",
        "for layer in vgg16_model.layers:\n",
        "    layer.trainable = False\n",
        "\n",
        "# Add custom classification layers\n",
        "model = Sequential([\n",
        "    vgg16_model,\n",
        "    Flatten(),\n",
        "    Dense(512, activation='relu'),\n",
        "    Dense(36, activation='softmax')\n",
        "])"
      ],
      "metadata": {
        "id": "jJj8COq3Sqf6"
      },
      "execution_count": null,
      "outputs": []
    },
    {
      "cell_type": "code",
      "source": [
        "model.summary()"
      ],
      "metadata": {
        "id": "tvb3qO_uStYd",
        "colab": {
          "base_uri": "https://localhost:8080/"
        },
        "outputId": "96839441-4092-41ff-ddee-43b5ecc519e0"
      },
      "execution_count": null,
      "outputs": [
        {
          "output_type": "stream",
          "name": "stdout",
          "text": [
            "Model: \"sequential\"\n",
            "_________________________________________________________________\n",
            " Layer (type)                Output Shape              Param #   \n",
            "=================================================================\n",
            " vgg16 (Functional)          (None, 3, 3, 512)         14714688  \n",
            "                                                                 \n",
            " flatten (Flatten)           (None, 4608)              0         \n",
            "                                                                 \n",
            " dense (Dense)               (None, 512)               2359808   \n",
            "                                                                 \n",
            " dense_1 (Dense)             (None, 36)                18468     \n",
            "                                                                 \n",
            "=================================================================\n",
            "Total params: 17092964 (65.20 MB)\n",
            "Trainable params: 2378276 (9.07 MB)\n",
            "Non-trainable params: 14714688 (56.13 MB)\n",
            "_________________________________________________________________\n"
          ]
        }
      ]
    },
    {
      "cell_type": "code",
      "source": [
        "# Compile the model\n",
        "model.compile(optimizer='adam', loss='categorical_crossentropy', metrics=['accuracy'])\n",
        "\n",
        "# Define callbacks\n",
        "checkpoint = tf.keras.callbacks.ModelCheckpoint(MODEL_PATH, monitor='val_accuracy', save_best_only=True,\n",
        "                                                save_weights_only=False, mode='max')\n",
        "\n",
        "# Train the model\n",
        "history = model.fit(train_generator, epochs=EPOCHS, validation_data=test_generator, callbacks=[checkpoint])\n"
      ],
      "metadata": {
        "id": "1cttnDqfXDtY"
      },
      "execution_count": null,
      "outputs": []
    },
    {
      "cell_type": "code",
      "source": [
        "with open(HISTORY_PATH, 'wb') as f:\n",
        "    pickle.dump(history.history, f)\n"
      ],
      "metadata": {
        "id": "K7RV9o2HUuR9"
      },
      "execution_count": null,
      "outputs": []
    },
    {
      "cell_type": "code",
      "source": [
        "best_model = tf.keras.models.load_model(MODEL_PATH)\n",
        "\n",
        "loss, accuracy = best_model.evaluate(test_generator)\n",
        "print('Testing Accuracy: {}'.format(accuracy))"
      ],
      "metadata": {
        "id": "A0zF3IK2XFZW"
      },
      "execution_count": null,
      "outputs": []
    },
    {
      "cell_type": "code",
      "source": [
        "import seaborn as sns\n",
        "\n",
        "sns.set_style('darkgrid')\n",
        "\n",
        "plt.figure(figsize=(20, 10))\n",
        "\n",
        "x = [i+1 for i in range(10)]\n",
        "\n",
        "plt.subplot(1, 2, 1)\n",
        "sns.lineplot(x=x, y=history.history['accuracy'], label='Train')\n",
        "sns.lineplot(x=x, y=history.history['val_accuracy'], label='Test')\n",
        "\n",
        "plt.xlabel('Epoch')\n",
        "plt.ylabel('Accuracy')\n",
        "plt.title('Accuracy')\n",
        "plt.legend(loc='lower right')\n",
        "\n",
        "plt.subplot(1, 2, 2)\n",
        "sns.lineplot(x=x, y=history.history['loss'], label='Train')\n",
        "sns.lineplot(x=x, y=history.history['val_loss'], label='Test')\n",
        "\n",
        "plt.xlabel('Epoch')\n",
        "plt.ylabel('Loss')\n",
        "plt.title('Loss')\n",
        "plt.legend(loc='upper right')\n",
        "plt.savefig(os.path.join(OUTPUT_PATH, '{}_VGG16.png'.format(language)))\n",
        "plt.show()"
      ],
      "metadata": {
        "id": "Q4d1TALnXHA5"
      },
      "execution_count": null,
      "outputs": []
    },
    {
      "cell_type": "code",
      "source": [
        "\n",
        "test_images = []\n",
        "test_labels = []\n",
        "for i in range(len(test_generator)):\n",
        "    batch = test_generator[i]\n",
        "    test_images.extend(batch[0])\n",
        "    test_labels.extend(np.argmax(batch[1], axis=1))\n",
        "\n",
        "test_images = np.array(test_images)\n",
        "test_labels = np.array(test_labels)\n",
        "predictions = np.argmax(best_model.predict(test_images), axis=1)\n",
        "\n",
        "cm = confusion_matrix(test_labels, predictions)\n",
        "\n",
        "plt.figure(figsize=(15, 15))\n",
        "labels = os.listdir(TEST_DIR)\n",
        "labels.sort()\n",
        "tick_marks = np.arange(len(labels))\n",
        "plt.xticks(tick_marks, labels, rotation=90)\n",
        "plt.yticks(tick_marks, labels)\n",
        "sns.heatmap(cm, annot=True, fmt='d', cmap='Blues')\n",
        "plt.xlabel('Predicted labels')\n",
        "plt.ylabel('True labels')\n",
        "plt.title('Confusion Matrix')\n",
        "plt.savefig(os.path.join(OUTPUT_PATH, '{}_VGG16_conf.png'.format(language)))\n",
        "plt.show()"
      ],
      "metadata": {
        "id": "fsNYW_rvXKLb"
      },
      "execution_count": null,
      "outputs": []
    },
    {
      "cell_type": "code",
      "source": [],
      "metadata": {
        "id": "x1hnqiizXkMN"
      },
      "execution_count": null,
      "outputs": []
    }
  ]
}