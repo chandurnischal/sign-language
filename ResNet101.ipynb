{
  "cells": [
    {
      "cell_type": "markdown",
      "metadata": {
        "id": "DTCBfYs-D96y"
      },
      "source": [
        "# Load Google Drive"
      ]
    },
    {
      "cell_type": "code",
      "execution_count": null,
      "metadata": {
        "colab": {
          "base_uri": "https://localhost:8080/"
        },
        "id": "yCiyvY5xL4uK",
        "outputId": "aec4e164-4ae0-4591-d5c1-6af48ad184dd"
      },
      "outputs": [],
      "source": [
        "from google.colab import drive\n",
        "drive.mount('/content/drive')"
      ]
    },
    {
      "cell_type": "markdown",
      "metadata": {
        "id": "C5rDvV6QEGBr"
      },
      "source": [
        "# Import necessary libraries"
      ]
    },
    {
      "cell_type": "code",
      "execution_count": null,
      "metadata": {
        "id": "kzSAXoO-Mhwo"
      },
      "outputs": [],
      "source": [
        "import tensorflow as tf\n",
        "from tensorflow.keras.preprocessing.image import ImageDataGenerator\n",
        "from tensorflow.keras.applications import ResNet101\n",
        "from tensorflow.keras.models import Sequential\n",
        "from tensorflow.keras.layers import Flatten, Dense\n",
        "from sklearn.metrics import confusion_matrix\n",
        "import matplotlib.pyplot as plt\n",
        "import os\n",
        "import numpy as np\n",
        "import pickle\n"
      ]
    },
    {
      "cell_type": "markdown",
      "metadata": {
        "id": "fRyHTr6wEJcv"
      },
      "source": [
        "# Set Global Variables"
      ]
    },
    {
      "cell_type": "code",
      "execution_count": null,
      "metadata": {
        "id": "UJVRJEgKMo9T"
      },
      "outputs": [],
      "source": [
        "LANGUAGE = \"asl\"\n",
        "\n",
        "DATA_FOLDER = '/path/to/folder/with/and/test/folders/'\n",
        "\n",
        "OUTPUT_PATH = '/path/to/folder/to/store/results/'\n",
        "\n",
        "MODEL_PATH = os.path.join(OUTPUT_PATH, '{}_InceptionV3.keras'.format(LANGUAGE))\n",
        "\n",
        "HISTORY_PATH = os.path.join(OUTPUT_PATH, '{}_InceptionV3.pkl'.format(LANGUAGE))\n",
        "\n",
        "BATCH_SIZE = 32\n",
        "\n",
        "EPOCHS = 15\n",
        "\n",
        "TRAIN_DIR = os.path.join(DATA_FOLDER, 'train')\n",
        "TEST_DIR = os.path.join(DATA_FOLDER, 'test')"
      ]
    },
    {
      "cell_type": "markdown",
      "metadata": {
        "id": "s7xeq9CzEL4-"
      },
      "source": [
        "# Data augmentation and normalization"
      ]
    },
    {
      "cell_type": "code",
      "execution_count": null,
      "metadata": {
        "id": "cK0dKyJ0MrB_"
      },
      "outputs": [],
      "source": [
        "train_datagen = ImageDataGenerator(rescale=1./255, shear_range=0.2, zoom_range=0.2, horizontal_flip=True)\n",
        "test_datagen = ImageDataGenerator(rescale=1./255)\n",
        "\n",
        "# Define image parameters\n",
        "img_width, img_height = 100, 100\n",
        "input_shape = (img_width, img_height, 3)\n"
      ]
    },
    {
      "cell_type": "markdown",
      "metadata": {
        "id": "68iU2Zc2Efqn"
      },
      "source": [
        "# Generate batches of augmented training and testing data"
      ]
    },
    {
      "cell_type": "code",
      "execution_count": null,
      "metadata": {
        "colab": {
          "base_uri": "https://localhost:8080/"
        },
        "id": "MadU2PWdMx-L",
        "outputId": "7a80a1c7-ac78-48d9-9414-3fd8ec07a60d"
      },
      "outputs": [],
      "source": [
        "# Prepare training and testing data generators\n",
        "train_generator = train_datagen.flow_from_directory(\n",
        "    TRAIN_DIR,\n",
        "    target_size=(img_width, img_height),\n",
        "    batch_size=BATCH_SIZE,\n",
        "    class_mode='categorical')\n",
        "\n",
        "test_generator = test_datagen.flow_from_directory(\n",
        "    TEST_DIR,\n",
        "    target_size=(img_width, img_height),\n",
        "    batch_size=BATCH_SIZE,\n",
        "    class_mode='categorical')"
      ]
    },
    {
      "cell_type": "markdown",
      "metadata": {
        "id": "knq5JlbWEkxR"
      },
      "source": [
        "# Define a ResNet101 base model with pre-trained ImageNet weights"
      ]
    },
    {
      "cell_type": "code",
      "execution_count": null,
      "metadata": {
        "colab": {
          "base_uri": "https://localhost:8080/"
        },
        "id": "kVlSO-90NFpu",
        "outputId": "62ab111f-128a-4f55-eee1-319c672297b8"
      },
      "outputs": [],
      "source": [
        "resent_model = ResNet101(weights='imagenet', include_top=False, input_shape=(100, 100, 3))\n",
        "\n",
        "# Freeze the layers\n",
        "for layer in resent_model.layers:\n",
        "    layer.trainable = False\n",
        "\n",
        "model = Sequential([\n",
        "    resent_model,\n",
        "    Flatten(),\n",
        "    Dense(512, activation='relu'),\n",
        "    Dense(36, activation='softmax')\n",
        "])\n"
      ]
    },
    {
      "cell_type": "code",
      "execution_count": null,
      "metadata": {
        "colab": {
          "base_uri": "https://localhost:8080/"
        },
        "id": "2E8_zdWpNMmw",
        "outputId": "92d6f325-f292-455d-e6ff-a5406704977e"
      },
      "outputs": [],
      "source": [
        "model.summary()"
      ]
    },
    {
      "cell_type": "markdown",
      "metadata": {
        "id": "-JTojdQPFOTC"
      },
      "source": [
        "# Training the model"
      ]
    },
    {
      "cell_type": "code",
      "execution_count": null,
      "metadata": {
        "colab": {
          "base_uri": "https://localhost:8080/"
        },
        "id": "8lT_Qtx5dN6S",
        "outputId": "3624a030-2ed9-4b13-8b19-2d2c51635c2d"
      },
      "outputs": [],
      "source": [
        "# Compile the model\n",
        "model.compile(optimizer='adam', loss='categorical_crossentropy', metrics=['accuracy'])\n",
        "\n",
        "# Define callbacks\n",
        "checkpoint = tf.keras.callbacks.ModelCheckpoint(MODEL_PATH, monitor='val_accuracy', save_best_only=True,\n",
        "                                                save_weights_only=False, mode='max')\n",
        "\n",
        "# Train the model\n",
        "history = model.fit(train_generator, epochs=EPOCHS, validation_data=test_generator, callbacks=[checkpoint])\n"
      ]
    },
    {
      "cell_type": "code",
      "execution_count": null,
      "metadata": {
        "id": "CZO7vjCLNPN3"
      },
      "outputs": [],
      "source": [
        "with open(HISTORY_PATH, 'wb') as f:\n",
        "    pickle.dump(history.history, f)\n"
      ]
    },
    {
      "cell_type": "code",
      "execution_count": null,
      "metadata": {
        "colab": {
          "base_uri": "https://localhost:8080/"
        },
        "id": "0xqz10XiNVj0",
        "outputId": "ea6183cd-71e2-4f9d-87b2-d3035c0375f0"
      },
      "outputs": [],
      "source": [
        "best_model = tf.keras.models.load_model(MODEL_PATH)\n",
        "\n",
        "loss, accuracy = best_model.evaluate(test_generator)\n",
        "print('Testing Accuracy: {}'.format(accuracy))"
      ]
    },
    {
      "cell_type": "markdown",
      "metadata": {
        "id": "CsZE8pAXFQTb"
      },
      "source": [
        "# Results of training phase"
      ]
    },
    {
      "cell_type": "code",
      "execution_count": null,
      "metadata": {
        "colab": {
          "base_uri": "https://localhost:8080/",
          "height": 635
        },
        "id": "3gEJni0iNZAP",
        "outputId": "0ce51cde-3cb9-4658-c25d-c66dd769f5a9"
      },
      "outputs": [],
      "source": [
        "import seaborn as sns\n",
        "\n",
        "sns.set_style('darkgrid')\n",
        "\n",
        "plt.figure(figsize=(20, 10))\n",
        "\n",
        "x = [i+1 for i in range(15)]\n",
        "\n",
        "plt.subplot(1, 2, 1)\n",
        "sns.lineplot(x=x, y=history.history['accuracy'], label='Train')\n",
        "sns.lineplot(x=x, y=history.history['val_accuracy'], label='Test')\n",
        "\n",
        "plt.xlabel('Epoch')\n",
        "plt.ylabel('Accuracy')\n",
        "plt.title('Accuracy')\n",
        "plt.legend(loc='lower right')\n",
        "\n",
        "plt.subplot(1, 2, 2)\n",
        "sns.lineplot(x=x, y=history.history['loss'], label='Train')\n",
        "sns.lineplot(x=x, y=history.history['val_loss'], label='Test')\n",
        "\n",
        "plt.xlabel('Epoch')\n",
        "plt.ylabel('Loss')\n",
        "plt.title('Loss')\n",
        "plt.legend(loc='upper right')\n",
        "plt.savefig(os.path.join(OUTPUT_PATH, '{}_ResNet101.png'.format(LANGUAGE)))\n",
        "plt.show()"
      ]
    },
    {
      "cell_type": "markdown",
      "metadata": {
        "id": "E1Iy5ifnFSmh"
      },
      "source": [
        "# Confusion Matrix"
      ]
    },
    {
      "cell_type": "code",
      "execution_count": null,
      "metadata": {
        "colab": {
          "base_uri": "https://localhost:8080/",
          "height": 1000
        },
        "id": "XVof6ey0Ndj-",
        "outputId": "e5175fbf-3b7a-4723-a003-a428fd469a59"
      },
      "outputs": [],
      "source": [
        "\n",
        "test_images = []\n",
        "test_labels = []\n",
        "for i in range(len(test_generator)):\n",
        "    batch = test_generator[i]\n",
        "    test_images.extend(batch[0])\n",
        "    test_labels.extend(np.argmax(batch[1], axis=1))\n",
        "\n",
        "test_images = np.array(test_images)\n",
        "test_labels = np.array(test_labels)\n",
        "predictions = np.argmax(best_model.predict(test_images), axis=1)\n",
        "\n",
        "cm = confusion_matrix(test_labels, predictions)\n",
        "\n",
        "plt.figure(figsize=(15, 15))\n",
        "labels = os.listdir(TEST_DIR)\n",
        "labels.sort()\n",
        "tick_marks = np.arange(len(labels))\n",
        "plt.xticks(tick_marks, labels, rotation=90)\n",
        "plt.yticks(tick_marks, labels)\n",
        "sns.heatmap(cm, annot=True, fmt='d', cmap='Blues')\n",
        "plt.xlabel('Predicted labels')\n",
        "plt.ylabel('True labels')\n",
        "plt.title('Confusion Matrix')\n",
        "plt.savefig(os.path.join(OUTPUT_PATH, '{}_ResNet101_conf.png'.format(LANGUAGE)))\n",
        "plt.show()"
      ]
    },
    {
      "cell_type": "code",
      "execution_count": null,
      "metadata": {
        "id": "F9o-gqewvHIF"
      },
      "outputs": [],
      "source": []
    }
  ],
  "metadata": {
    "colab": {
      "provenance": []
    },
    "kernelspec": {
      "display_name": "Python 3",
      "name": "python3"
    },
    "language_info": {
      "name": "python"
    }
  },
  "nbformat": 4,
  "nbformat_minor": 0
}
