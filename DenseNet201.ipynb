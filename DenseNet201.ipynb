{
  "cells": [
    {
      "cell_type": "markdown",
      "metadata": {
        "id": "ZswSychxCOQP"
      },
      "source": [
        "## Load Google Drive"
      ]
    },
    {
      "cell_type": "code",
      "execution_count": null,
      "metadata": {
        "colab": {
          "base_uri": "https://localhost:8080/"
        },
        "id": "TPVLB8h7SYLP",
        "outputId": "c3470be6-216a-48e0-8d02-b1a67aab2233"
      },
      "outputs": [],
      "source": [
        "from google.colab import drive\n",
        "drive.mount('/content/drive')"
      ]
    },
    {
      "cell_type": "markdown",
      "metadata": {
        "id": "e1mcVIcFCWAd"
      },
      "source": [
        "## Import necessary libraries"
      ]
    },
    {
      "cell_type": "code",
      "execution_count": null,
      "metadata": {
        "id": "iEyn0QNpScwz"
      },
      "outputs": [],
      "source": [
        "import tensorflow as tf\n",
        "from tensorflow.keras.preprocessing.image import ImageDataGenerator\n",
        "from tensorflow.keras.applications import DenseNet201\n",
        "from tensorflow.keras.models import Sequential\n",
        "from tensorflow.keras.layers import Flatten, Dense\n",
        "from sklearn.metrics import confusion_matrix\n",
        "import matplotlib.pyplot as plt\n",
        "import os\n",
        "import numpy as np\n",
        "import pickle"
      ]
    },
    {
      "cell_type": "markdown",
      "metadata": {
        "id": "y_O6ihC3CZtM"
      },
      "source": [
        "## Set Global Variables"
      ]
    },
    {
      "cell_type": "code",
      "execution_count": null,
      "metadata": {
        "id": "WToTyjFWSeda"
      },
      "outputs": [],
      "source": [
        "LANGUAGE = \"asl\"\n",
        "\n",
        "DATA_FOLDER = '/path/to/folder/with/and/test/folders/'\n",
        "\n",
        "OUTPUT_PATH = '/path/to/folder/to/store/results/'\n",
        "\n",
        "MODEL_PATH = os.path.join(OUTPUT_PATH, '{}_DenseNet201.keras'.format(LANGUAGE))\n",
        "\n",
        "HISTORY_PATH = os.path.join(OUTPUT_PATH, '{}_DenseNet201.pkl'.format(LANGUAGE))\n",
        "\n",
        "BATCH_SIZE = 32\n",
        "\n",
        "EPOCHS = 15\n",
        "\n",
        "TRAIN_DIR = os.path.join(DATA_FOLDER, 'train')\n",
        "TEST_DIR = os.path.join(DATA_FOLDER, 'test')"
      ]
    },
    {
      "cell_type": "markdown",
      "metadata": {
        "id": "zqGrkWExC1nc"
      },
      "source": [
        "# Data augmentation and normalization"
      ]
    },
    {
      "cell_type": "code",
      "execution_count": null,
      "metadata": {
        "id": "-m43tvYBSgbK"
      },
      "outputs": [],
      "source": [
        "train_datagen = ImageDataGenerator(rescale=1./255, shear_range=0.2, zoom_range=0.2, horizontal_flip=True)\n",
        "test_datagen = ImageDataGenerator(rescale=1./255)\n",
        "\n",
        "# Define image parameters\n",
        "img_width, img_height = 100, 100\n",
        "input_shape = (img_width, img_height, 3)\n"
      ]
    },
    {
      "cell_type": "markdown",
      "metadata": {
        "id": "Y40Fp_cBC4W7"
      },
      "source": [
        "# Generate batches of augmented training and testing data"
      ]
    },
    {
      "cell_type": "code",
      "execution_count": null,
      "metadata": {
        "colab": {
          "base_uri": "https://localhost:8080/"
        },
        "id": "4XvUSqHfSnpN",
        "outputId": "0b69d7f1-582a-455e-ab73-635ffd529a4e"
      },
      "outputs": [],
      "source": [
        "# Prepare training and testing data generators\n",
        "train_generator = train_datagen.flow_from_directory(\n",
        "    TRAIN_DIR,\n",
        "    target_size=(img_width, img_height),\n",
        "    batch_size=BATCH_SIZE,\n",
        "    class_mode='categorical')\n",
        "\n",
        "test_generator = test_datagen.flow_from_directory(\n",
        "    TEST_DIR,\n",
        "    target_size=(img_width, img_height),\n",
        "    batch_size=BATCH_SIZE,\n",
        "    class_mode='categorical')"
      ]
    },
    {
      "cell_type": "markdown",
      "metadata": {
        "id": "nSyLArVxC9ih"
      },
      "source": [
        "# Define DenseNet201 base model with pre-trained ImageNet weights"
      ]
    },
    {
      "cell_type": "code",
      "execution_count": null,
      "metadata": {
        "colab": {
          "base_uri": "https://localhost:8080/"
        },
        "id": "jJj8COq3Sqf6",
        "outputId": "ed5eea3a-6edf-4d5b-9b68-5e26cac81cbf"
      },
      "outputs": [],
      "source": [
        "# Load DenseNet201 model with ImageNet weights, excluding the top classification layer\n",
        "densenet_model = DenseNet201(weights='imagenet', include_top=False, input_shape=(100, 100, 3))\n",
        "\n",
        "# Freeze the layers\n",
        "for layer in densenet_model.layers:\n",
        "    layer.trainable = False\n",
        "\n",
        "# Add custom classification layers\n",
        "model = Sequential([\n",
        "    densenet_model,\n",
        "    Flatten(),\n",
        "    Dense(512, activation='relu'),\n",
        "    Dense(36, activation='softmax')\n",
        "])"
      ]
    },
    {
      "cell_type": "code",
      "execution_count": null,
      "metadata": {
        "colab": {
          "base_uri": "https://localhost:8080/"
        },
        "id": "tvb3qO_uStYd",
        "outputId": "d6f0b814-668a-43a9-aab1-61322e8d6999"
      },
      "outputs": [],
      "source": [
        "model.summary()"
      ]
    },
    {
      "cell_type": "markdown",
      "metadata": {
        "id": "F1xlU4xUDHdn"
      },
      "source": [
        "# Training the model"
      ]
    },
    {
      "cell_type": "code",
      "execution_count": null,
      "metadata": {
        "colab": {
          "base_uri": "https://localhost:8080/"
        },
        "id": "1cttnDqfXDtY",
        "outputId": "38e89e9b-c383-4786-cf5c-013e50447750"
      },
      "outputs": [],
      "source": [
        "# Compile the model\n",
        "model.compile(optimizer='adam', loss='categorical_crossentropy', metrics=['accuracy'])\n",
        "\n",
        "# Define callbacks\n",
        "checkpoint = tf.keras.callbacks.ModelCheckpoint(MODEL_PATH, monitor='val_accuracy', save_best_only=True,\n",
        "                                                save_weights_only=False, mode='max')\n",
        "\n",
        "# Train the model\n",
        "history = model.fit(train_generator, epochs=EPOCHS, validation_data=test_generator, callbacks=[checkpoint])\n"
      ]
    },
    {
      "cell_type": "code",
      "execution_count": null,
      "metadata": {
        "id": "K7RV9o2HUuR9"
      },
      "outputs": [],
      "source": [
        "with open(HISTORY_PATH, 'wb') as f:\n",
        "    pickle.dump(history.history, f)\n"
      ]
    },
    {
      "cell_type": "code",
      "execution_count": null,
      "metadata": {
        "colab": {
          "base_uri": "https://localhost:8080/"
        },
        "id": "A0zF3IK2XFZW",
        "outputId": "03abd4eb-c7f3-41e1-909d-a81599a7c259"
      },
      "outputs": [],
      "source": [
        "best_model = tf.keras.models.load_model(MODEL_PATH)\n",
        "\n",
        "loss, accuracy = best_model.evaluate(test_generator)\n",
        "print('Testing Accuracy: {}'.format(accuracy))"
      ]
    },
    {
      "cell_type": "markdown",
      "metadata": {
        "id": "bfbWZquPDxRr"
      },
      "source": [
        "# Results of the training phase"
      ]
    },
    {
      "cell_type": "code",
      "execution_count": null,
      "metadata": {
        "colab": {
          "base_uri": "https://localhost:8080/",
          "height": 631
        },
        "id": "Q4d1TALnXHA5",
        "outputId": "0bee77f3-1db3-478d-d2fc-8422f7f0db6d"
      },
      "outputs": [],
      "source": [
        "import seaborn as sns\n",
        "\n",
        "sns.set_style('darkgrid')\n",
        "\n",
        "plt.figure(figsize=(20, 10))\n",
        "\n",
        "x = [i+1 for i in range(15)]\n",
        "\n",
        "plt.subplot(1, 2, 1)\n",
        "sns.lineplot(x=x, y=history.history['accuracy'], label='Train')\n",
        "sns.lineplot(x=x, y=history.history['val_accuracy'], label='Test')\n",
        "\n",
        "plt.xlabel('Epoch')\n",
        "plt.ylabel('Accuracy')\n",
        "plt.title('Accuracy')\n",
        "plt.legend(loc='lower right')\n",
        "\n",
        "plt.subplot(1, 2, 2)\n",
        "sns.lineplot(x=x, y=history.history['loss'], label='Train')\n",
        "sns.lineplot(x=x, y=history.history['val_loss'], label='Test')\n",
        "\n",
        "plt.xlabel('Epoch')\n",
        "plt.ylabel('Loss')\n",
        "plt.title('Loss')\n",
        "plt.legend(loc='upper right')\n",
        "plt.savefig(os.path.join(OUTPUT_PATH, '{}_DenseNet201.png'.format(LANGUAGE)))\n",
        "plt.show()"
      ]
    },
    {
      "cell_type": "markdown",
      "metadata": {
        "id": "kM-sddQ9D1pE"
      },
      "source": [
        "# Confusion Matrix"
      ]
    },
    {
      "cell_type": "code",
      "execution_count": null,
      "metadata": {
        "colab": {
          "base_uri": "https://localhost:8080/",
          "height": 1000
        },
        "id": "fsNYW_rvXKLb",
        "outputId": "aa095be1-44df-46da-8928-65c8295be030"
      },
      "outputs": [],
      "source": [
        "\n",
        "test_images = []\n",
        "test_labels = []\n",
        "for i in range(len(test_generator)):\n",
        "    batch = test_generator[i]\n",
        "    test_images.extend(batch[0])\n",
        "    test_labels.extend(np.argmax(batch[1], axis=1))\n",
        "\n",
        "test_images = np.array(test_images)\n",
        "test_labels = np.array(test_labels)\n",
        "predictions = np.argmax(best_model.predict(test_images), axis=1)\n",
        "\n",
        "cm = confusion_matrix(test_labels, predictions)\n",
        "\n",
        "plt.figure(figsize=(15, 15))\n",
        "labels = os.listdir(TEST_DIR)\n",
        "labels.sort()\n",
        "tick_marks = np.arange(len(labels))\n",
        "plt.xticks(tick_marks, labels, rotation=90)\n",
        "plt.yticks(tick_marks, labels)\n",
        "sns.heatmap(cm, annot=True, fmt='d', cmap='Blues')\n",
        "plt.xlabel('Predicted labels')\n",
        "plt.ylabel('True labels')\n",
        "plt.title('Confusion Matrix')\n",
        "plt.savefig(os.path.join(OUTPUT_PATH, '{}_DenseNet201_conf.png'.format(LANGUAGE)))\n",
        "plt.show()"
      ]
    }
  ],
  "metadata": {
    "colab": {
      "provenance": []
    },
    "kernelspec": {
      "display_name": "Python 3",
      "name": "python3"
    },
    "language_info": {
      "name": "python"
    }
  },
  "nbformat": 4,
  "nbformat_minor": 0
}
